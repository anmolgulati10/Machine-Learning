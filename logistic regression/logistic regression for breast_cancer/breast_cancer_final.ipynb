{
 "cells": [
  {
   "cell_type": "code",
   "execution_count": 16,
   "metadata": {},
   "outputs": [
    {
     "name": "stdout",
     "output_type": "stream",
     "text": [
      "(569, 30)\n",
      "(569,)\n"
     ]
    }
   ],
   "source": [
    "from sklearn import datasets\n",
    "breast=datasets.load_breast_cancer()\n",
    "x=breast.data\n",
    "y=breast.target\n",
    "print(x.shape)\n",
    "print(y.shape)"
   ]
  },
  {
   "cell_type": "code",
   "execution_count": 17,
   "metadata": {},
   "outputs": [
    {
     "name": "stdout",
     "output_type": "stream",
     "text": [
      "[[1.130e+01 1.819e+01 7.393e+01 ... 1.218e-01 3.308e-01 1.297e-01]\n",
      " [1.088e+01 1.562e+01 7.041e+01 ... 7.966e-02 2.581e-01 1.080e-01]\n",
      " [1.969e+01 2.125e+01 1.300e+02 ... 2.430e-01 3.613e-01 8.758e-02]\n",
      " ...\n",
      " [1.291e+01 1.633e+01 8.253e+01 ... 8.235e-02 3.024e-01 6.949e-02]\n",
      " [1.678e+01 1.880e+01 1.093e+02 ... 1.474e-01 2.810e-01 7.228e-02]\n",
      " [1.496e+01 1.910e+01 9.703e+01 ... 1.489e-01 2.962e-01 8.472e-02]]\n"
     ]
    }
   ],
   "source": [
    "from sklearn import model_selection\n",
    "x_train,x_test,y_train,y_test=model_selection.train_test_split(x,y)\n",
    "print(x_train)"
   ]
  },
  {
   "cell_type": "code",
   "execution_count": 18,
   "metadata": {},
   "outputs": [],
   "source": [
    "from sklearn import preprocessing\n",
    "scaler=preprocessing.StandardScaler()\n",
    "scaler.fit(x_train)\n",
    "x_train=scaler.transform(x_train)\n",
    "x_test=scaler.transform(x_test)\n"
   ]
  },
  {
   "cell_type": "code",
   "execution_count": 21,
   "metadata": {},
   "outputs": [],
   "source": [
    "import numpy as np\n",
    "x=np.ones(len(x_train)).reshape(-1,1)\n",
    "x_train=np.concatenate((x_train,x),axis=1)\n",
    "y=np.ones(len(x_test)).reshape(-1,1)\n",
    "x_test=np.concatenate((x_test,y),axis=1)"
   ]
  },
  {
   "cell_type": "code",
   "execution_count": 24,
   "metadata": {},
   "outputs": [
    {
     "data": {
      "text/plain": [
       "array([[-0.82801922, -0.31354201, -0.76627411, ...,  2.51152889,\n",
       "         1.        ,  1.        ],\n",
       "       [-0.94808435, -0.91239072, -0.91178618, ...,  1.32153576,\n",
       "         1.        ,  1.        ],\n",
       "       [ 1.5704246 ,  0.39948409,  1.55158438, ...,  0.20173577,\n",
       "         1.        ,  0.        ],\n",
       "       ...,\n",
       "       [-0.36776957, -0.74695003, -0.41076166, ..., -0.79029076,\n",
       "         1.        ,  1.        ],\n",
       "       [ 0.7385448 , -0.17140282,  0.69587418, ..., -0.63729164,\n",
       "         1.        ,  0.        ],\n",
       "       [ 0.21826259, -0.1014983 ,  0.18864886, ...,  0.04489797,\n",
       "         1.        ,  1.        ]])"
      ]
     },
     "execution_count": 24,
     "metadata": {},
     "output_type": "execute_result"
    }
   ],
   "source": [
    "data=np.concatenate((x_train,y_train.reshape(-1,1)),axis=1)\n",
    "data"
   ]
  },
  {
   "cell_type": "code",
   "execution_count": 117,
   "metadata": {},
   "outputs": [],
   "source": [
    "def run(data):\n",
    "    num_iteration=10\n",
    "    learning_rate=1\n",
    "    m=gd(data,learning_rate,num_iteration)\n",
    "    print(*m)"
   ]
  },
  {
   "cell_type": "code",
   "execution_count": 118,
   "metadata": {},
   "outputs": [],
   "source": [
    "def gd(data,learning_rate,num_iteration):\n",
    "    m=np.zeros((data.shape)[1]-1)\n",
    "    for i in range(num_iteration):\n",
    "        m=step_gradient(data,m,learning_rate)\n",
    "        print(\"cost:\",cost(data,m))\n",
    "    return m"
   ]
  },
  {
   "cell_type": "code",
   "execution_count": 119,
   "metadata": {},
   "outputs": [],
   "source": [
    "def step_gradient(data,m,learning_rate):\n",
    "    from math import exp,log\n",
    "    new_m=np.zeros(len(m))\n",
    "\n",
    "    N=len(data)\n",
    "    for k in range(len(m)):\n",
    "        sum=0\n",
    "        for i in range(N):\n",
    "            x=data[i,0:(data.shape)[1]-1]\n",
    "            y=data[i,(data.shape)[1]-1]\n",
    "            z=exp(-((m*x).sum()))\n",
    "            hx=(1/(1+z))\n",
    "            sum+=(-1/N)*(y-hx)*x[k]\n",
    "        new_m[k]=m[k]-(learning_rate*sum)\n",
    "    return new_m"
   ]
  },
  {
   "cell_type": "code",
   "execution_count": 120,
   "metadata": {},
   "outputs": [],
   "source": [
    "def cost(data,m):\n",
    "    from math import exp,log\n",
    "    sum=0\n",
    "    N=len(data)\n",
    "    for i in range(N):\n",
    "        x=data[i,0:(data.shape)[1]-1]\n",
    "        y=data[i,(data.shape)[1]-1]\n",
    "        z=exp(-((m*x).sum()))\n",
    "        hx=(1/(1+z))\n",
    "        sum+=(-1/N)*(y*log(hx)+(1-y)*log(1-hx))\n",
    "    return sum\n",
    "        "
   ]
  },
  {
   "cell_type": "code",
   "execution_count": 121,
   "metadata": {},
   "outputs": [
    {
     "name": "stdout",
     "output_type": "stream",
     "text": [
      "cost: 0.16258104002181983\n",
      "cost: 0.1373485078369536\n",
      "cost: 0.12368840019303114\n",
      "cost: 0.11589554695262429\n",
      "cost: 0.11089176767130988\n",
      "cost: 0.10721931153537648\n",
      "cost: 0.10426313162057599\n",
      "cost: 0.10175753656301054\n",
      "cost: 0.0995719081589103\n",
      "cost: 0.09763172189990657\n",
      "-0.44924665264255276 -0.40018681890382385 -0.446410449848746 -0.4439310588758795 -0.15642824561373553 -0.17214051809568662 -0.343656657320515 -0.43593879864467305 -0.12170774369002636 0.1918436598271126 -0.4245661004175261 -0.023963750133492372 -0.3679399814710436 -0.39333224753016777 0.0560838100646037 0.07198243112235685 0.02881381223768525 -0.13722741295355464 0.08885527286901657 0.14539682363161677 -0.5140882310783847 -0.4810427073978405 -0.4968709245367661 -0.4862376947247718 -0.312804536946438 -0.20312448702136365 -0.31883851057206986 -0.45896117913949736 -0.27112684736363796 -0.0855905729177815 0.1943471751897933\n"
     ]
    }
   ],
   "source": [
    "run(data)"
   ]
  },
  {
   "cell_type": "code",
   "execution_count": null,
   "metadata": {},
   "outputs": [],
   "source": []
  },
  {
   "cell_type": "code",
   "execution_count": null,
   "metadata": {},
   "outputs": [],
   "source": []
  }
 ],
 "metadata": {
  "kernelspec": {
   "display_name": "Python 3",
   "language": "python",
   "name": "python3"
  },
  "language_info": {
   "codemirror_mode": {
    "name": "ipython",
    "version": 3
   },
   "file_extension": ".py",
   "mimetype": "text/x-python",
   "name": "python",
   "nbconvert_exporter": "python",
   "pygments_lexer": "ipython3",
   "version": "3.6.8"
  }
 },
 "nbformat": 4,
 "nbformat_minor": 2
}
