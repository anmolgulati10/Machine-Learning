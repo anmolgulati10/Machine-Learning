{
 "cells": [
  {
   "cell_type": "code",
   "execution_count": 157,
   "metadata": {},
   "outputs": [],
   "source": [
    "import numpy as np\n",
    "import pandas as pd\n",
    "data=np.loadtxt(\"data.csv\",delimiter=\",\")\n",
    "X=data[:,0]\n",
    "Y=data[:,1]\n",
    "x=pd.DataFrame(X)\n",
    "x['1']=1\n",
    "x=np.array(x)\n",
    "y=Y.reshape(-1,1)\n",
    "data=np.concatenate((x,y),axis=1)"
   ]
  },
  {
   "cell_type": "code",
   "execution_count": 200,
   "metadata": {},
   "outputs": [],
   "source": [
    "def run(data):\n",
    "    num_iteration=100\n",
    "    learning_rate=.0001\n",
    "    m=gd(data,num_iteration,learning_rate)\n",
    "    print(*m)    "
   ]
  },
  {
   "cell_type": "code",
   "execution_count": 201,
   "metadata": {},
   "outputs": [],
   "source": [
    "def gd(data,num_iteration,learning_rate):\n",
    "    m=np.zeros((data.shape[1])-1)\n",
    "    for i in range(num_iteration):\n",
    "        m=step_gd(data,m,learning_rate)\n",
    "    return m    "
   ]
  },
  {
   "cell_type": "code",
   "execution_count": 204,
   "metadata": {},
   "outputs": [],
   "source": [
    "def step_gd(data,m,learning_rate):\n",
    "    new_m=np.zeros((data.shape[1])-1)\n",
    "    N=len(data)\n",
    "    for k in range(len(new_m)):\n",
    "        sum=0\n",
    "        for i in range(N):\n",
    "            x=data[i,0:len(new_m)]\n",
    "            y=data[i,len(new_m)]\n",
    "            sum+=(-2/N)*(y-(m*x).sum())*x[k]\n",
    "        new_m[k]=m[k]-(learning_rate)*sum\n",
    "    return new_m    "
   ]
  },
  {
   "cell_type": "code",
   "execution_count": 205,
   "metadata": {},
   "outputs": [
    {
     "name": "stdout",
     "output_type": "stream",
     "text": [
      "1.4788027175308358 0.03507497059234177\n"
     ]
    }
   ],
   "source": [
    "run(data)"
   ]
  }
 ],
 "metadata": {
  "kernelspec": {
   "display_name": "Python 3",
   "language": "python",
   "name": "python3"
  },
  "language_info": {
   "codemirror_mode": {
    "name": "ipython",
    "version": 3
   },
   "file_extension": ".py",
   "mimetype": "text/x-python",
   "name": "python",
   "nbconvert_exporter": "python",
   "pygments_lexer": "ipython3",
   "version": "3.7.3"
  }
 },
 "nbformat": 4,
 "nbformat_minor": 2
}
