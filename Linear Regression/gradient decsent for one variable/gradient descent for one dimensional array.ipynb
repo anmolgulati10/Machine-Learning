{
 "cells": [
  {
   "cell_type": "code",
   "execution_count": 1,
   "metadata": {},
   "outputs": [],
   "source": [
    "#importing necessary modules\n",
    "import numpy as np\n",
    "data=np.loadtxt(\"data.csv\",delimiter=\",\")\n",
    "\n"
   ]
  },
  {
   "cell_type": "code",
   "execution_count": 3,
   "metadata": {},
   "outputs": [],
   "source": [
    "def run(data):\n",
    "    num_iteration=100\n",
    "    learning_rate=.0001\n",
    "    m,c=gd(data,learning_rate,num_iteration)\n",
    "    print(m,c)"
   ]
  },
  {
   "cell_type": "code",
   "execution_count": 4,
   "metadata": {},
   "outputs": [],
   "source": [
    "def gd(data,learning_rate,num_iteration):\n",
    "    m=0\n",
    "    c=0\n",
    "    for i in range(num_iteration):\n",
    "        m,c=step_grad(data,m,c,learning_rate)\n",
    "    return m,c"
   ]
  },
  {
   "cell_type": "code",
   "execution_count": 5,
   "metadata": {},
   "outputs": [],
   "source": [
    "def step_grad(data,m,c,learning_rate):\n",
    "    m_slope=0\n",
    "    c_slope=0\n",
    "    N=len(data)\n",
    "    for i in range(N):\n",
    "        x=data[i,0]\n",
    "        y=data[i,1]\n",
    "        m_slope+=(-2/N)*((y-m*x-c)*x)\n",
    "        c_slope+=(-2/N)*(y-m*x-c)\n",
    "    new_m=m-learning_rate*m_slope\n",
    "    new_c=c-learning_rate*c_slope\n",
    "    return new_m,new_c"
   ]
  },
  {
   "cell_type": "code",
   "execution_count": null,
   "metadata": {},
   "outputs": [],
   "source": []
  },
  {
   "cell_type": "code",
   "execution_count": 6,
   "metadata": {},
   "outputs": [
    {
     "name": "stdout",
     "output_type": "stream",
     "text": [
      "1.4788027175308358 0.03507497059234176\n"
     ]
    }
   ],
   "source": [
    "run(data)"
   ]
  },
  {
   "cell_type": "code",
   "execution_count": null,
   "metadata": {},
   "outputs": [],
   "source": []
  }
 ],
 "metadata": {
  "kernelspec": {
   "display_name": "Python 3",
   "language": "python",
   "name": "python3"
  },
  "language_info": {
   "codemirror_mode": {
    "name": "ipython",
    "version": 3
   },
   "file_extension": ".py",
   "mimetype": "text/x-python",
   "name": "python",
   "nbconvert_exporter": "python",
   "pygments_lexer": "ipython3",
   "version": "3.7.3"
  }
 },
 "nbformat": 4,
 "nbformat_minor": 2
}
